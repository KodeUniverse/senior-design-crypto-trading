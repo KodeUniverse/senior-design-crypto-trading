{
 "cells": [
  {
   "cell_type": "code",
   "execution_count": 15,
   "id": "2f63f49e",
   "metadata": {
    "executionInfo": {
     "elapsed": 2374,
     "status": "ok",
     "timestamp": 1670231179081,
     "user": {
      "displayName": "Troy Donnelly",
      "userId": "16870711332735915911"
     },
     "user_tz": 300
    },
    "id": "2f63f49e"
   },
   "outputs": [],
   "source": [
    "import pandas as pd\n",
    "import pandas_datareader as pdr\n",
    "import matplotlib.pyplot as plt\n",
    "import numpy as np\n",
    "import csv \n",
    "import datetime as dt\n",
    "from sklearn.neural_network import MLPClassifier\n",
    "from sklearn.model_selection import cross_validate, TimeSeriesSplit, cross_val_score\n",
    "from sklearn.preprocessing import StandardScaler\n",
    "from sklearn.metrics import accuracy_score, confusion_matrix\n",
    "#tf.config.set_visible_devices([], 'GPU')"
   ]
  },
  {
   "cell_type": "code",
   "execution_count": 16,
   "id": "9c100d32",
   "metadata": {
    "colab": {
     "base_uri": "https://localhost:8080/",
     "height": 519
    },
    "executionInfo": {
     "elapsed": 2734,
     "status": "error",
     "timestamp": 1670231240775,
     "user": {
      "displayName": "Troy Donnelly",
      "userId": "16870711332735915911"
     },
     "user_tz": 300
    },
    "id": "9c100d32",
    "outputId": "f1d8f745-312b-43b0-ee96-ffc8a9428a4c",
    "scrolled": true
   },
   "outputs": [],
   "source": [
    "#Grab Data\n",
    "BTC = pd.read_csv(\"data/CBSE_BTC_clean1.csv\")\n",
    "ETH = pd.read_csv(\"data/CBSE_ETH_clean1.csv\")"
   ]
  },
  {
   "cell_type": "code",
   "execution_count": 17,
   "id": "92e17ea3",
   "metadata": {},
   "outputs": [
    {
     "data": {
      "text/html": [
       "<div>\n",
       "<style scoped>\n",
       "    .dataframe tbody tr th:only-of-type {\n",
       "        vertical-align: middle;\n",
       "    }\n",
       "\n",
       "    .dataframe tbody tr th {\n",
       "        vertical-align: top;\n",
       "    }\n",
       "\n",
       "    .dataframe thead th {\n",
       "        text-align: right;\n",
       "    }\n",
       "</style>\n",
       "<table border=\"1\" class=\"dataframe\">\n",
       "  <thead>\n",
       "    <tr style=\"text-align: right;\">\n",
       "      <th></th>\n",
       "      <th>timestamp</th>\n",
       "      <th>open</th>\n",
       "      <th>high</th>\n",
       "      <th>low</th>\n",
       "      <th>close</th>\n",
       "      <th>volume</th>\n",
       "    </tr>\n",
       "  </thead>\n",
       "  <tbody>\n",
       "    <tr>\n",
       "      <th>0</th>\n",
       "      <td>1640995200000</td>\n",
       "      <td>3675.81</td>\n",
       "      <td>3676.28</td>\n",
       "      <td>3675.56</td>\n",
       "      <td>3676.12</td>\n",
       "      <td>1.531696</td>\n",
       "    </tr>\n",
       "    <tr>\n",
       "      <th>1</th>\n",
       "      <td>1640995201000</td>\n",
       "      <td>3675.55</td>\n",
       "      <td>3675.98</td>\n",
       "      <td>3675.44</td>\n",
       "      <td>3675.80</td>\n",
       "      <td>0.346709</td>\n",
       "    </tr>\n",
       "    <tr>\n",
       "      <th>2</th>\n",
       "      <td>1640995202000</td>\n",
       "      <td>3675.44</td>\n",
       "      <td>3675.44</td>\n",
       "      <td>3675.44</td>\n",
       "      <td>3675.44</td>\n",
       "      <td>0.256209</td>\n",
       "    </tr>\n",
       "    <tr>\n",
       "      <th>3</th>\n",
       "      <td>1640995203000</td>\n",
       "      <td>3675.73</td>\n",
       "      <td>3675.73</td>\n",
       "      <td>3675.44</td>\n",
       "      <td>3675.68</td>\n",
       "      <td>0.081256</td>\n",
       "    </tr>\n",
       "    <tr>\n",
       "      <th>4</th>\n",
       "      <td>1640995204000</td>\n",
       "      <td>3675.65</td>\n",
       "      <td>3675.65</td>\n",
       "      <td>3675.65</td>\n",
       "      <td>3675.65</td>\n",
       "      <td>0.028732</td>\n",
       "    </tr>\n",
       "    <tr>\n",
       "      <th>...</th>\n",
       "      <td>...</td>\n",
       "      <td>...</td>\n",
       "      <td>...</td>\n",
       "      <td>...</td>\n",
       "      <td>...</td>\n",
       "      <td>...</td>\n",
       "    </tr>\n",
       "    <tr>\n",
       "      <th>599995</th>\n",
       "      <td>1641595195000</td>\n",
       "      <td>3193.97</td>\n",
       "      <td>3194.38</td>\n",
       "      <td>3193.97</td>\n",
       "      <td>3194.38</td>\n",
       "      <td>0.054920</td>\n",
       "    </tr>\n",
       "    <tr>\n",
       "      <th>599996</th>\n",
       "      <td>1641595196000</td>\n",
       "      <td>3194.38</td>\n",
       "      <td>3194.38</td>\n",
       "      <td>3194.38</td>\n",
       "      <td>3194.38</td>\n",
       "      <td>0.045466</td>\n",
       "    </tr>\n",
       "    <tr>\n",
       "      <th>599997</th>\n",
       "      <td>1641595197000</td>\n",
       "      <td>3193.97</td>\n",
       "      <td>3193.97</td>\n",
       "      <td>3193.96</td>\n",
       "      <td>3193.96</td>\n",
       "      <td>0.034612</td>\n",
       "    </tr>\n",
       "    <tr>\n",
       "      <th>599998</th>\n",
       "      <td>1641595198000</td>\n",
       "      <td>3194.48</td>\n",
       "      <td>3194.48</td>\n",
       "      <td>3194.46</td>\n",
       "      <td>3194.46</td>\n",
       "      <td>0.090668</td>\n",
       "    </tr>\n",
       "    <tr>\n",
       "      <th>599999</th>\n",
       "      <td>1641595199000</td>\n",
       "      <td>3194.02</td>\n",
       "      <td>3194.46</td>\n",
       "      <td>3194.02</td>\n",
       "      <td>3194.45</td>\n",
       "      <td>0.075063</td>\n",
       "    </tr>\n",
       "  </tbody>\n",
       "</table>\n",
       "<p>600000 rows × 6 columns</p>\n",
       "</div>"
      ],
      "text/plain": [
       "            timestamp     open     high      low    close    volume\n",
       "0       1640995200000  3675.81  3676.28  3675.56  3676.12  1.531696\n",
       "1       1640995201000  3675.55  3675.98  3675.44  3675.80  0.346709\n",
       "2       1640995202000  3675.44  3675.44  3675.44  3675.44  0.256209\n",
       "3       1640995203000  3675.73  3675.73  3675.44  3675.68  0.081256\n",
       "4       1640995204000  3675.65  3675.65  3675.65  3675.65  0.028732\n",
       "...               ...      ...      ...      ...      ...       ...\n",
       "599995  1641595195000  3193.97  3194.38  3193.97  3194.38  0.054920\n",
       "599996  1641595196000  3194.38  3194.38  3194.38  3194.38  0.045466\n",
       "599997  1641595197000  3193.97  3193.97  3193.96  3193.96  0.034612\n",
       "599998  1641595198000  3194.48  3194.48  3194.46  3194.46  0.090668\n",
       "599999  1641595199000  3194.02  3194.46  3194.02  3194.45  0.075063\n",
       "\n",
       "[600000 rows x 6 columns]"
      ]
     },
     "execution_count": 17,
     "metadata": {},
     "output_type": "execute_result"
    }
   ],
   "source": [
    "#Downsize\n",
    "BTC_subset = BTC[0:600_000]\n",
    "ETH_subset = ETH[0:600_000]\n",
    "BTC_X = BTC_subset.loc[:,\"timestamp\":\"volume\"]\n",
    "ETH_X = ETH_subset.loc[:,\"timestamp\":\"volume\"]\n",
    "ETH_X"
   ]
  },
  {
   "cell_type": "code",
   "execution_count": 18,
   "id": "6db50d0f",
   "metadata": {
    "colab": {
     "base_uri": "https://localhost:8080/",
     "height": 235
    },
    "executionInfo": {
     "elapsed": 940,
     "status": "error",
     "timestamp": 1670231228054,
     "user": {
      "displayName": "Troy Donnelly",
      "userId": "16870711332735915911"
     },
     "user_tz": 300
    },
    "id": "6db50d0f",
    "outputId": "f621481d-c98e-47fc-d618-214992897a05"
   },
   "outputs": [
    {
     "data": {
      "text/plain": [
       "'\\nif(\"Direction\" not in BTC_X.columns):\\n    BTC_X[\"Direction\"] = BTC_Y\\nif(\"Direction\" not in ETH_X.columns):\\n    ETH_X[\"Direction\"] = ETH_Y\\n    '"
      ]
     },
     "execution_count": 18,
     "metadata": {},
     "output_type": "execute_result"
    }
   ],
   "source": [
    "def get_direction(df):\n",
    "    returns = pd.DataFrame(df['close'] / df['close'].shift(1) - 1)\n",
    "    result = np.where(returns > 0, 1, -1)\n",
    "    return result\n",
    "\n",
    "BTC_Y = get_direction(BTC_X)\n",
    "ETH_Y = get_direction(ETH_X)\n",
    "#XRP_Y = get_direction(XRP_X)\n",
    "\"\"\"\n",
    "if(\"Direction\" not in BTC_X.columns):\n",
    "    BTC_X[\"Direction\"] = BTC_Y\n",
    "if(\"Direction\" not in ETH_X.columns):\n",
    "    ETH_X[\"Direction\"] = ETH_Y\n",
    "    \"\"\"\n"
   ]
  },
  {
   "cell_type": "code",
   "execution_count": 19,
   "id": "97a20d40",
   "metadata": {
    "id": "97a20d40"
   },
   "outputs": [
    {
     "data": {
      "text/html": [
       "<style>#sk-container-id-3 {color: black;background-color: white;}#sk-container-id-3 pre{padding: 0;}#sk-container-id-3 div.sk-toggleable {background-color: white;}#sk-container-id-3 label.sk-toggleable__label {cursor: pointer;display: block;width: 100%;margin-bottom: 0;padding: 0.3em;box-sizing: border-box;text-align: center;}#sk-container-id-3 label.sk-toggleable__label-arrow:before {content: \"▸\";float: left;margin-right: 0.25em;color: #696969;}#sk-container-id-3 label.sk-toggleable__label-arrow:hover:before {color: black;}#sk-container-id-3 div.sk-estimator:hover label.sk-toggleable__label-arrow:before {color: black;}#sk-container-id-3 div.sk-toggleable__content {max-height: 0;max-width: 0;overflow: hidden;text-align: left;background-color: #f0f8ff;}#sk-container-id-3 div.sk-toggleable__content pre {margin: 0.2em;color: black;border-radius: 0.25em;background-color: #f0f8ff;}#sk-container-id-3 input.sk-toggleable__control:checked~div.sk-toggleable__content {max-height: 200px;max-width: 100%;overflow: auto;}#sk-container-id-3 input.sk-toggleable__control:checked~label.sk-toggleable__label-arrow:before {content: \"▾\";}#sk-container-id-3 div.sk-estimator input.sk-toggleable__control:checked~label.sk-toggleable__label {background-color: #d4ebff;}#sk-container-id-3 div.sk-label input.sk-toggleable__control:checked~label.sk-toggleable__label {background-color: #d4ebff;}#sk-container-id-3 input.sk-hidden--visually {border: 0;clip: rect(1px 1px 1px 1px);clip: rect(1px, 1px, 1px, 1px);height: 1px;margin: -1px;overflow: hidden;padding: 0;position: absolute;width: 1px;}#sk-container-id-3 div.sk-estimator {font-family: monospace;background-color: #f0f8ff;border: 1px dotted black;border-radius: 0.25em;box-sizing: border-box;margin-bottom: 0.5em;}#sk-container-id-3 div.sk-estimator:hover {background-color: #d4ebff;}#sk-container-id-3 div.sk-parallel-item::after {content: \"\";width: 100%;border-bottom: 1px solid gray;flex-grow: 1;}#sk-container-id-3 div.sk-label:hover label.sk-toggleable__label {background-color: #d4ebff;}#sk-container-id-3 div.sk-serial::before {content: \"\";position: absolute;border-left: 1px solid gray;box-sizing: border-box;top: 0;bottom: 0;left: 50%;z-index: 0;}#sk-container-id-3 div.sk-serial {display: flex;flex-direction: column;align-items: center;background-color: white;padding-right: 0.2em;padding-left: 0.2em;position: relative;}#sk-container-id-3 div.sk-item {position: relative;z-index: 1;}#sk-container-id-3 div.sk-parallel {display: flex;align-items: stretch;justify-content: center;background-color: white;position: relative;}#sk-container-id-3 div.sk-item::before, #sk-container-id-3 div.sk-parallel-item::before {content: \"\";position: absolute;border-left: 1px solid gray;box-sizing: border-box;top: 0;bottom: 0;left: 50%;z-index: -1;}#sk-container-id-3 div.sk-parallel-item {display: flex;flex-direction: column;z-index: 1;position: relative;background-color: white;}#sk-container-id-3 div.sk-parallel-item:first-child::after {align-self: flex-end;width: 50%;}#sk-container-id-3 div.sk-parallel-item:last-child::after {align-self: flex-start;width: 50%;}#sk-container-id-3 div.sk-parallel-item:only-child::after {width: 0;}#sk-container-id-3 div.sk-dashed-wrapped {border: 1px dashed gray;margin: 0 0.4em 0.5em 0.4em;box-sizing: border-box;padding-bottom: 0.4em;background-color: white;}#sk-container-id-3 div.sk-label label {font-family: monospace;font-weight: bold;display: inline-block;line-height: 1.2em;}#sk-container-id-3 div.sk-label-container {text-align: center;}#sk-container-id-3 div.sk-container {/* jupyter's `normalize.less` sets `[hidden] { display: none; }` but bootstrap.min.css set `[hidden] { display: none !important; }` so we also need the `!important` here to be able to override the default hidden behavior on the sphinx rendered scikit-learn.org. See: https://github.com/scikit-learn/scikit-learn/issues/21755 */display: inline-block !important;position: relative;}#sk-container-id-3 div.sk-text-repr-fallback {display: none;}</style><div id=\"sk-container-id-3\" class=\"sk-top-container\"><div class=\"sk-text-repr-fallback\"><pre>MLPClassifier(max_iter=250)</pre><b>In a Jupyter environment, please rerun this cell to show the HTML representation or trust the notebook. <br />On GitHub, the HTML representation is unable to render, please try loading this page with nbviewer.org.</b></div><div class=\"sk-container\" hidden><div class=\"sk-item\"><div class=\"sk-estimator sk-toggleable\"><input class=\"sk-toggleable__control sk-hidden--visually\" id=\"sk-estimator-id-3\" type=\"checkbox\" checked><label for=\"sk-estimator-id-3\" class=\"sk-toggleable__label sk-toggleable__label-arrow\">MLPClassifier</label><div class=\"sk-toggleable__content\"><pre>MLPClassifier(max_iter=250)</pre></div></div></div></div></div>"
      ],
      "text/plain": [
       "MLPClassifier(max_iter=250)"
      ]
     },
     "execution_count": 19,
     "metadata": {},
     "output_type": "execute_result"
    }
   ],
   "source": [
    "scaler = StandardScaler()\n",
    "X_scaled = scaler.fit_transform(BTC_X)\n",
    "Y = BTC_Y\n",
    "#X_train, X_test, Y_train, Y_test = train_test_split(X_scaled, BTC_Y.ravel(), test_size=0.30, random_state=1)\n",
    "\n",
    "ts_split = TimeSeriesSplit(n_splits = 10)\n",
    "split_indices = ts_split.split(X_scaled) #generates train/test indices for scaled df\n",
    "for train_ind, test_ind in split_indices:\n",
    "    #initializes the (x,y) values of the train test split\n",
    "    x_train, x_test = X_scaled[:len(train_ind)], X_scaled[len(train_ind): (len(train_ind) + len(test_ind))]\n",
    "    y_train, y_test = Y[:len(train_ind)].ravel(), Y[len(train_ind): (len(train_ind)+len(test_ind))].ravel()\n",
    "\n",
    "trainX = np.array(x_train)\n",
    "testX = np.array(x_test)\n",
    "x_train = trainX.reshape(x_train.shape[0], x_train.shape[1])\n",
    "x_test = testX.reshape(x_test.shape[0], x_test.shape[1])\n",
    "\n",
    "BTCmodel = MLPClassifier(max_iter = 250)\n",
    "BTCmodel.fit(x_train, y_train)"
   ]
  },
  {
   "cell_type": "code",
   "execution_count": 27,
   "id": "1a735ba1",
   "metadata": {
    "id": "1a735ba1"
   },
   "outputs": [
    {
     "name": "stdout",
     "output_type": "stream",
     "text": [
      "Testing Accuracy: 0.9911082592354936\n",
      "Training Accuracy: 0.9978715017737485\n"
     ]
    },
    {
     "data": {
      "text/plain": [
       "54545"
      ]
     },
     "execution_count": 27,
     "metadata": {},
     "output_type": "execute_result"
    }
   ],
   "source": [
    "pred = BTCmodel.predict(x_test)\n",
    "print(f\"Testing Accuracy: {accuracy_score(y_test, BTCmodel.predict(x_test))}\")\n",
    "print(f\"Training Accuracy: {accuracy_score(y_train, BTCmodel.predict(x_train))}\")\n",
    "confusion_matrix(y_test, pred)"
   ]
  },
  {
   "cell_type": "code",
   "execution_count": 21,
   "id": "289ddab7",
   "metadata": {
    "id": "289ddab7"
   },
   "outputs": [],
   "source": [
    "# Backtest\n",
    "wealth = 1_000_000\n",
    "testperiod = BTC_X.tail(len(x_test))\n",
    "\n",
    "cum_return = []\n",
    "for i in range(len(testperiod)-1):\n",
    "    if(pred[i+1] == 1):\n",
    "        cum_return.append(testperiod.iloc[(i+1),4] / testperiod.iloc[i,4] - 1)\n",
    "    else:\n",
    "        cum_return.append(0)\n",
    "\n",
    "daily_portfolio = [wealth]\n",
    "for _ in range(1,len(cum_return)):\n",
    "    prev = daily_portfolio[_ - 1]\n",
    "    daily_portfolio.append(prev + wealth*cum_return[_])\n",
    "#daily_portfolio\n"
   ]
  },
  {
   "cell_type": "code",
   "execution_count": 22,
   "id": "be8200b4",
   "metadata": {
    "id": "be8200b4"
   },
   "outputs": [
    {
     "name": "stdout",
     "output_type": "stream",
     "text": [
      "Portfolio Return: 0.00%\n",
      "BTC Return: -9.83%\n"
     ]
    },
    {
     "data": {
      "image/png": "[encoded data removed]",
      "text/plain": [
       "<Figure size 640x480 with 1 Axes>"
      ]
     },
     "metadata": {},
     "output_type": "display_data"
    }
   ],
   "source": [
    "plt.plot(daily_portfolio, color = 'firebrick')\n",
    "plt.xlabel(\"Days\")\n",
    "plt.ylabel(\"US Dollars\")\n",
    "plt.title(\"Portfolio Value\")\n",
    "print(f\"Portfolio Return: {(daily_portfolio[-1]/daily_portfolio[0]-1)*100:.2f}%\")\n",
    "print(f\"BTC Return: {(BTC_X.loc[:,'close'][len(BTC_X) -1] / BTC_X.loc[:,'close'][0] - 1)*100:.2f}%\")"
   ]
  },
  {
   "cell_type": "code",
   "execution_count": 23,
   "id": "3f18624e",
   "metadata": {},
   "outputs": [
    {
     "data": {
      "text/plain": [
       "Text(0.5, 1.0, 'BTC Price')"
      ]
     },
     "execution_count": 23,
     "metadata": {},
     "output_type": "execute_result"
    },
    {
     "data": {
      "image/png": "[encoded data removed]",
      "text/plain": [
       "<Figure size 640x480 with 1 Axes>"
      ]
     },
     "metadata": {},
     "output_type": "display_data"
    }
   ],
   "source": [
    "plt.plot(BTC_X.loc[:,\"close\"])\n",
    "plt.title(\"BTC Price\")"
   ]
  },
  {
   "cell_type": "code",
   "execution_count": null,
   "id": "303eae1a",
   "metadata": {},
   "outputs": [],
   "source": [
    "scaler = StandardScaler()\n",
    "X_scaled = scaler.fit_transform(ETH_X)\n",
    "Y = ETH_Y\n",
    "#X_train, X_test, Y_train, Y_test = train_test_split(X_scaled, BTC_Y.ravel(), test_size=0.30, random_state=1)\n",
    "\n",
    "ts_split = TimeSeriesSplit(n_splits = 10)\n",
    "split_indices = ts_split.split(X_scaled) #generates train/test indices for scaled df\n",
    "for train_ind, test_ind in split_indices:\n",
    "    #initializes the (x,y) values of the train test split\n",
    "    x_train, x_test = X_scaled[:len(train_ind)], X_scaled[len(train_ind): (len(train_ind) + len(test_ind))]\n",
    "    y_train, y_test = Y[:len(train_ind)].ravel(), Y[len(train_ind): (len(train_ind)+len(test_ind))].ravel()\n",
    "\n",
    "trainX = np.array(x_train)\n",
    "testX = np.array(x_test)\n",
    "x_train = trainX.reshape(x_train.shape[0], x_train.shape[1])\n",
    "x_test = testX.reshape(x_test.shape[0], x_test.shape[1])\n",
    "\n",
    "ETHmodel = MLPClassifier(max_iter = 250)\n",
    "ETHmodel.fit(x_train, y_train)"
   ]
  },
  {
   "cell_type": "code",
   "execution_count": null,
   "id": "5c0d8d06",
   "metadata": {},
   "outputs": [],
   "source": [
    "pred = ETHmodel.predict(x_test)\n",
    "print(f\"Testing Accuracy: {accuracy_score(y_test, ETHmodel.predict(x_test))}\")\n",
    "print(f\"Training Accuracy: {accuracy_score(y_train, ETHmodel.predict(x_train))}\")\n",
    "confusion_matrix(y_test, pred)"
   ]
  },
  {
   "cell_type": "code",
   "execution_count": null,
   "id": "e7dc20a4",
   "metadata": {},
   "outputs": [],
   "source": [
    "# Backtest\n",
    "wealth = 1_000_000\n",
    "testperiod = ETH_X.tail(len(x_test))\n",
    "\n",
    "cum_return = []\n",
    "for i in range(len(testperiod)-1):\n",
    "    if(pred[i+1] == 1):\n",
    "        cum_return.append(testperiod.iloc[(i+1),4] / testperiod.iloc[i,4] - 1)\n",
    "    else:\n",
    "        cum_return.append(0)\n",
    "\n",
    "daily_portfolio = [wealth]\n",
    "for _ in range(1,len(cum_return)):\n",
    "    prev = daily_portfolio[_ - 1]\n",
    "    daily_portfolio.append(prev + wealth*cum_return[_])\n",
    "#daily_portfolio\n"
   ]
  },
  {
   "cell_type": "code",
   "execution_count": null,
   "id": "57a88aa0",
   "metadata": {},
   "outputs": [],
   "source": [
    "plt.plot(daily_portfolio, color = 'firebrick')\n",
    "plt.xlabel(\"Days\")\n",
    "plt.ylabel(\"US Dollars\")\n",
    "plt.title(\"Portfolio Value\")\n",
    "print(f\"Portfolio Return: {(daily_portfolio[-1]/daily_portfolio[0]-1)*100:.2f}%\")\n",
    "print(f\"ETH Return: {(ETH_X.loc[:,'close'][len(ETH_X) -1] / ETH_X.loc[:,'close'][0] - 1)*100:.2f}%\")"
   ]
  },
  {
   "cell_type": "code",
   "execution_count": null,
   "id": "f1ff42db",
   "metadata": {},
   "outputs": [],
   "source": [
    "plt.plot(ETH_X.loc[:,\"close\"])\n",
    "plt.title(\"ETH Price\")"
   ]
  }
 ],
 "metadata": {
  "colab": {
   "provenance": []
  },
  "kernelspec": {
   "display_name": "Python 3 (ipykernel)",
   "language": "python",
   "name": "python3"
  },
  "language_info": {
   "codemirror_mode": {
    "name": "ipython",
    "version": 3
   },
   "file_extension": ".py",
   "mimetype": "text/x-python",
   "name": "python",
   "nbconvert_exporter": "python",
   "pygments_lexer": "ipython3",
   "version": "3.10.9 (main, Dec 19 2022, 17:35:49) [GCC 12.2.0]"
  },
  "vscode": {
   "interpreter": {
    "hash": "e7370f93d1d0cde622a1f8e1c04877d8463912d04d973331ad4851f04de6915a"
   }
  }
 },
 "nbformat": 4,
 "nbformat_minor": 5
}
